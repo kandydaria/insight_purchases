{
 "cells": [
  {
   "cell_type": "markdown",
   "metadata": {},
   "source": [
    "Имеется информация о числе заказов за прошедшие 3 месяца с разрешением по неделям. Построим прогноз продаж на следующие 3 месяца, с учётом того, что в неделю с 2020-02-02 по 2020-02-09 была проведена массивная акция, повысившая число заказов на 7%         \n",
    "_________\n",
    "P.S. В действительности на таком малом кол-ве данных строить прогноз не имеет смысла, но ради академического опыта построим :3"
   ]
  },
  {
   "cell_type": "code",
   "execution_count": 1,
   "metadata": {},
   "outputs": [],
   "source": [
    "import pandas as pd\n",
    "import numpy as np\n",
    "import matplotlib.pyplot as plt\n",
    "import seaborn as sns\n",
    "from datetime import date\n",
    "import holidays\n",
    "from fbprophet import Prophet"
   ]
  },
  {
   "cell_type": "code",
   "execution_count": 2,
   "metadata": {},
   "outputs": [
    {
     "data": {
      "text/html": [
       "<div>\n",
       "<style scoped>\n",
       "    .dataframe tbody tr th:only-of-type {\n",
       "        vertical-align: middle;\n",
       "    }\n",
       "\n",
       "    .dataframe tbody tr th {\n",
       "        vertical-align: top;\n",
       "    }\n",
       "\n",
       "    .dataframe thead th {\n",
       "        text-align: right;\n",
       "    }\n",
       "</style>\n",
       "<table border=\"1\" class=\"dataframe\">\n",
       "  <thead>\n",
       "    <tr style=\"text-align: right;\">\n",
       "      <th></th>\n",
       "      <th>ds</th>\n",
       "      <th>y</th>\n",
       "    </tr>\n",
       "  </thead>\n",
       "  <tbody>\n",
       "    <tr>\n",
       "      <th>0</th>\n",
       "      <td>2020-01-05</td>\n",
       "      <td>650</td>\n",
       "    </tr>\n",
       "    <tr>\n",
       "      <th>1</th>\n",
       "      <td>2020-01-12</td>\n",
       "      <td>837</td>\n",
       "    </tr>\n",
       "    <tr>\n",
       "      <th>2</th>\n",
       "      <td>2020-01-19</td>\n",
       "      <td>1020</td>\n",
       "    </tr>\n",
       "    <tr>\n",
       "      <th>3</th>\n",
       "      <td>2020-01-26</td>\n",
       "      <td>1176</td>\n",
       "    </tr>\n",
       "    <tr>\n",
       "      <th>4</th>\n",
       "      <td>2020-02-02</td>\n",
       "      <td>1489</td>\n",
       "    </tr>\n",
       "    <tr>\n",
       "      <th>5</th>\n",
       "      <td>2020-02-09</td>\n",
       "      <td>1823</td>\n",
       "    </tr>\n",
       "    <tr>\n",
       "      <th>6</th>\n",
       "      <td>2020-02-16</td>\n",
       "      <td>1991</td>\n",
       "    </tr>\n",
       "    <tr>\n",
       "      <th>7</th>\n",
       "      <td>2020-02-23</td>\n",
       "      <td>2166</td>\n",
       "    </tr>\n",
       "    <tr>\n",
       "      <th>8</th>\n",
       "      <td>2020-03-01</td>\n",
       "      <td>2334</td>\n",
       "    </tr>\n",
       "    <tr>\n",
       "      <th>9</th>\n",
       "      <td>2020-03-08</td>\n",
       "      <td>2607</td>\n",
       "    </tr>\n",
       "    <tr>\n",
       "      <th>10</th>\n",
       "      <td>2020-03-15</td>\n",
       "      <td>2734</td>\n",
       "    </tr>\n",
       "    <tr>\n",
       "      <th>11</th>\n",
       "      <td>2020-03-22</td>\n",
       "      <td>3492</td>\n",
       "    </tr>\n",
       "    <tr>\n",
       "      <th>12</th>\n",
       "      <td>2020-03-29</td>\n",
       "      <td>3608</td>\n",
       "    </tr>\n",
       "    <tr>\n",
       "      <th>13</th>\n",
       "      <td>2020-04-05</td>\n",
       "      <td>3857</td>\n",
       "    </tr>\n",
       "  </tbody>\n",
       "</table>\n",
       "</div>"
      ],
      "text/plain": [
       "           ds     y\n",
       "0  2020-01-05   650\n",
       "1  2020-01-12   837\n",
       "2  2020-01-19  1020\n",
       "3  2020-01-26  1176\n",
       "4  2020-02-02  1489\n",
       "5  2020-02-09  1823\n",
       "6  2020-02-16  1991\n",
       "7  2020-02-23  2166\n",
       "8  2020-03-01  2334\n",
       "9  2020-03-08  2607\n",
       "10 2020-03-15  2734\n",
       "11 2020-03-22  3492\n",
       "12 2020-03-29  3608\n",
       "13 2020-04-05  3857"
      ]
     },
     "execution_count": 2,
     "metadata": {},
     "output_type": "execute_result"
    }
   ],
   "source": [
    "data = pd.read_csv('https://stepik.org/media/attachments/lesson/426638/test2_completed.csv', \n",
    "                   parse_dates=['Дата'])\n",
    "data.columns = ['ds', 'y']\n",
    "data"
   ]
  },
  {
   "cell_type": "code",
   "execution_count": 3,
   "metadata": {},
   "outputs": [
    {
     "data": {
      "text/html": [
       "<div>\n",
       "<style scoped>\n",
       "    .dataframe tbody tr th:only-of-type {\n",
       "        vertical-align: middle;\n",
       "    }\n",
       "\n",
       "    .dataframe tbody tr th {\n",
       "        vertical-align: top;\n",
       "    }\n",
       "\n",
       "    .dataframe thead th {\n",
       "        text-align: right;\n",
       "    }\n",
       "</style>\n",
       "<table border=\"1\" class=\"dataframe\">\n",
       "  <thead>\n",
       "    <tr style=\"text-align: right;\">\n",
       "      <th></th>\n",
       "      <th>ds</th>\n",
       "      <th>y</th>\n",
       "    </tr>\n",
       "  </thead>\n",
       "  <tbody>\n",
       "    <tr>\n",
       "      <th>0</th>\n",
       "      <td>2020-01-05</td>\n",
       "      <td>650.000000</td>\n",
       "    </tr>\n",
       "    <tr>\n",
       "      <th>1</th>\n",
       "      <td>2020-01-12</td>\n",
       "      <td>837.000000</td>\n",
       "    </tr>\n",
       "    <tr>\n",
       "      <th>2</th>\n",
       "      <td>2020-01-19</td>\n",
       "      <td>1020.000000</td>\n",
       "    </tr>\n",
       "    <tr>\n",
       "      <th>3</th>\n",
       "      <td>2020-01-26</td>\n",
       "      <td>1176.000000</td>\n",
       "    </tr>\n",
       "    <tr>\n",
       "      <th>4</th>\n",
       "      <td>2020-02-02</td>\n",
       "      <td>1489.000000</td>\n",
       "    </tr>\n",
       "    <tr>\n",
       "      <th>5</th>\n",
       "      <td>2020-02-09</td>\n",
       "      <td>1703.738318</td>\n",
       "    </tr>\n",
       "    <tr>\n",
       "      <th>6</th>\n",
       "      <td>2020-02-16</td>\n",
       "      <td>1991.000000</td>\n",
       "    </tr>\n",
       "    <tr>\n",
       "      <th>7</th>\n",
       "      <td>2020-02-23</td>\n",
       "      <td>2166.000000</td>\n",
       "    </tr>\n",
       "    <tr>\n",
       "      <th>8</th>\n",
       "      <td>2020-03-01</td>\n",
       "      <td>2334.000000</td>\n",
       "    </tr>\n",
       "    <tr>\n",
       "      <th>9</th>\n",
       "      <td>2020-03-08</td>\n",
       "      <td>2607.000000</td>\n",
       "    </tr>\n",
       "    <tr>\n",
       "      <th>10</th>\n",
       "      <td>2020-03-15</td>\n",
       "      <td>2734.000000</td>\n",
       "    </tr>\n",
       "    <tr>\n",
       "      <th>11</th>\n",
       "      <td>2020-03-22</td>\n",
       "      <td>3492.000000</td>\n",
       "    </tr>\n",
       "    <tr>\n",
       "      <th>12</th>\n",
       "      <td>2020-03-29</td>\n",
       "      <td>3608.000000</td>\n",
       "    </tr>\n",
       "    <tr>\n",
       "      <th>13</th>\n",
       "      <td>2020-04-05</td>\n",
       "      <td>3857.000000</td>\n",
       "    </tr>\n",
       "  </tbody>\n",
       "</table>\n",
       "</div>"
      ],
      "text/plain": [
       "           ds            y\n",
       "0  2020-01-05   650.000000\n",
       "1  2020-01-12   837.000000\n",
       "2  2020-01-19  1020.000000\n",
       "3  2020-01-26  1176.000000\n",
       "4  2020-02-02  1489.000000\n",
       "5  2020-02-09  1703.738318\n",
       "6  2020-02-16  1991.000000\n",
       "7  2020-02-23  2166.000000\n",
       "8  2020-03-01  2334.000000\n",
       "9  2020-03-08  2607.000000\n",
       "10 2020-03-15  2734.000000\n",
       "11 2020-03-22  3492.000000\n",
       "12 2020-03-29  3608.000000\n",
       "13 2020-04-05  3857.000000"
      ]
     },
     "execution_count": 3,
     "metadata": {},
     "output_type": "execute_result"
    }
   ],
   "source": [
    "# Т.к. в неделю с 2020-02-02 по 2020-02-09 была проведена массивная акция, повысившая число заказов на 7%, то для точности \n",
    "# прогноза уберем эти 7% 'привлеченных' заказов  для \"2020-02-09\" - теперь в нашем датасете будут только данные \n",
    "# для органики.\n",
    "\n",
    "data.y = data.y.astype('float')\n",
    "data.iloc[5,1] = data.iloc[5,1] / 1.07\n",
    "data"
   ]
  },
  {
   "cell_type": "code",
   "execution_count": 4,
   "metadata": {},
   "outputs": [
    {
     "data": {
      "text/plain": [
       "[Text(0, 0, '2019-12-27'),\n",
       " Text(0, 0, '2020-01-16'),\n",
       " Text(0, 0, '2020-02-05'),\n",
       " Text(0, 0, '2020-02-25'),\n",
       " Text(0, 0, '2020-03-16'),\n",
       " Text(0, 0, '2020-04-05')]"
      ]
     },
     "execution_count": 4,
     "metadata": {},
     "output_type": "execute_result"
    },
    {
     "data": {
      "image/png": "[encoded data removed]",
      "text/plain": [
       "<Figure size 720x432 with 1 Axes>"
      ]
     },
     "metadata": {},
     "output_type": "display_data"
    }
   ],
   "source": [
    "# Для наглядности визуализируем те данные, что у нас имеются:\n",
    "\n",
    "data1 = data.copy()\n",
    "data1['date_ordinal'] = pd.to_datetime(data1['ds']).apply(lambda x: \\\n",
    "        x.toordinal())\n",
    "\n",
    "sns.set(style='whitegrid', rc={'figure.figsize': (10, 6)})\n",
    "\n",
    "ax = sns.regplot(x='date_ordinal', y='y', data=data1)\n",
    "\n",
    "# Настройка подписей осей:\n",
    "ax.set_title('Данные по числу заказов за прошедшие 3 месяца\\n')\n",
    "ax.set_xlabel('\\nДата')\n",
    "ax.set_ylabel('Число заказов\\n')\n",
    "\n",
    "new_labels = [date.fromordinal(int(i)) for i in ax.get_xticks()]\n",
    "ax.set_xticklabels(new_labels)\n"
   ]
  },
  {
   "cell_type": "markdown",
   "metadata": {},
   "source": [
    "Невооруженным глазом видно, что наши данные имеют близкую к линейной зависимость, и, несмотря на то, что данных мало, можно\n",
    "попробовать построить прогноз временного ряда с помощью FBprohet."
   ]
  },
  {
   "cell_type": "code",
   "execution_count": 5,
   "metadata": {},
   "outputs": [
    {
     "data": {
      "text/html": [
       "<div>\n",
       "<style scoped>\n",
       "    .dataframe tbody tr th:only-of-type {\n",
       "        vertical-align: middle;\n",
       "    }\n",
       "\n",
       "    .dataframe tbody tr th {\n",
       "        vertical-align: top;\n",
       "    }\n",
       "\n",
       "    .dataframe thead th {\n",
       "        text-align: right;\n",
       "    }\n",
       "</style>\n",
       "<table border=\"1\" class=\"dataframe\">\n",
       "  <thead>\n",
       "    <tr style=\"text-align: right;\">\n",
       "      <th></th>\n",
       "      <th>ds</th>\n",
       "      <th>holiday</th>\n",
       "    </tr>\n",
       "  </thead>\n",
       "  <tbody>\n",
       "    <tr>\n",
       "      <th>0</th>\n",
       "      <td>2020-01-05</td>\n",
       "      <td>Новый год</td>\n",
       "    </tr>\n",
       "    <tr>\n",
       "      <th>1</th>\n",
       "      <td>2020-01-06</td>\n",
       "      <td>Новый год</td>\n",
       "    </tr>\n",
       "    <tr>\n",
       "      <th>2</th>\n",
       "      <td>2020-01-07</td>\n",
       "      <td>Православное Рождество</td>\n",
       "    </tr>\n",
       "    <tr>\n",
       "      <th>3</th>\n",
       "      <td>2020-01-08</td>\n",
       "      <td>Новый год</td>\n",
       "    </tr>\n",
       "    <tr>\n",
       "      <th>4</th>\n",
       "      <td>2020-02-23</td>\n",
       "      <td>День защитника отечества</td>\n",
       "    </tr>\n",
       "    <tr>\n",
       "      <th>5</th>\n",
       "      <td>2020-03-08</td>\n",
       "      <td>День женщин</td>\n",
       "    </tr>\n",
       "    <tr>\n",
       "      <th>6</th>\n",
       "      <td>2020-05-01</td>\n",
       "      <td>Праздник Весны и Труда</td>\n",
       "    </tr>\n",
       "    <tr>\n",
       "      <th>7</th>\n",
       "      <td>2020-05-09</td>\n",
       "      <td>День Победы</td>\n",
       "    </tr>\n",
       "    <tr>\n",
       "      <th>8</th>\n",
       "      <td>2020-06-12</td>\n",
       "      <td>День России</td>\n",
       "    </tr>\n",
       "    <tr>\n",
       "      <th>9</th>\n",
       "      <td>2020-11-04</td>\n",
       "      <td>День народного единства</td>\n",
       "    </tr>\n",
       "  </tbody>\n",
       "</table>\n",
       "</div>"
      ],
      "text/plain": [
       "          ds                   holiday\n",
       "0 2020-01-05                 Новый год\n",
       "1 2020-01-06                 Новый год\n",
       "2 2020-01-07    Православное Рождество\n",
       "3 2020-01-08                 Новый год\n",
       "4 2020-02-23  День защитника отечества\n",
       "5 2020-03-08               День женщин\n",
       "6 2020-05-01    Праздник Весны и Труда\n",
       "7 2020-05-09               День Победы\n",
       "8 2020-06-12               День России\n",
       "9 2020-11-04   День народного единства"
      ]
     },
     "execution_count": 5,
     "metadata": {},
     "output_type": "execute_result"
    }
   ],
   "source": [
    "# При построении прогноза будем учитывать влияние праздников (RU). Для этого сформирует датафрейм \n",
    "# с праздниками за нужный период:\n",
    "\n",
    "holidays_dict = holidays.RU(years=(2020))\n",
    "df_holidays = pd.DataFrame.from_dict(holidays_dict, orient=\"index\").reset_index()\n",
    "df_holidays = df_holidays.rename({\"index\": \"ds\", 0: \"holiday\"}, axis=\"columns\")\n",
    "df_holidays[\"ds\"] = pd.to_datetime(df_holidays.ds)\n",
    "df_holidays = df_holidays.sort_values(by=[\"ds\"])\n",
    "df_holidays = df_holidays.reset_index(drop=True)\n",
    "df_holidays = df_holidays.iloc[4:].reset_index(drop=True)\n",
    "\n",
    "df_holidays"
   ]
  },
  {
   "cell_type": "code",
   "execution_count": 6,
   "metadata": {},
   "outputs": [
    {
     "data": {
      "text/html": [
       "<div>\n",
       "<style scoped>\n",
       "    .dataframe tbody tr th:only-of-type {\n",
       "        vertical-align: middle;\n",
       "    }\n",
       "\n",
       "    .dataframe tbody tr th {\n",
       "        vertical-align: top;\n",
       "    }\n",
       "\n",
       "    .dataframe thead th {\n",
       "        text-align: right;\n",
       "    }\n",
       "</style>\n",
       "<table border=\"1\" class=\"dataframe\">\n",
       "  <thead>\n",
       "    <tr style=\"text-align: right;\">\n",
       "      <th></th>\n",
       "      <th>ds</th>\n",
       "      <th>yhat</th>\n",
       "      <th>yhat_lower</th>\n",
       "      <th>yhat_upper</th>\n",
       "    </tr>\n",
       "  </thead>\n",
       "  <tbody>\n",
       "    <tr>\n",
       "      <th>0</th>\n",
       "      <td>2020-01-05</td>\n",
       "      <td>650.013056</td>\n",
       "      <td>575.340147</td>\n",
       "      <td>724.751573</td>\n",
       "    </tr>\n",
       "    <tr>\n",
       "      <th>1</th>\n",
       "      <td>2020-01-12</td>\n",
       "      <td>805.276259</td>\n",
       "      <td>732.733943</td>\n",
       "      <td>877.244871</td>\n",
       "    </tr>\n",
       "    <tr>\n",
       "      <th>2</th>\n",
       "      <td>2020-01-19</td>\n",
       "      <td>1028.618571</td>\n",
       "      <td>954.010843</td>\n",
       "      <td>1106.595987</td>\n",
       "    </tr>\n",
       "    <tr>\n",
       "      <th>3</th>\n",
       "      <td>2020-01-26</td>\n",
       "      <td>1251.960883</td>\n",
       "      <td>1181.141278</td>\n",
       "      <td>1326.374442</td>\n",
       "    </tr>\n",
       "    <tr>\n",
       "      <th>4</th>\n",
       "      <td>2020-02-02</td>\n",
       "      <td>1475.331938</td>\n",
       "      <td>1398.031466</td>\n",
       "      <td>1543.060399</td>\n",
       "    </tr>\n",
       "    <tr>\n",
       "      <th>5</th>\n",
       "      <td>2020-02-09</td>\n",
       "      <td>1698.702992</td>\n",
       "      <td>1624.027479</td>\n",
       "      <td>1774.918588</td>\n",
       "    </tr>\n",
       "    <tr>\n",
       "      <th>6</th>\n",
       "      <td>2020-02-16</td>\n",
       "      <td>1922.074047</td>\n",
       "      <td>1853.093107</td>\n",
       "      <td>1993.654209</td>\n",
       "    </tr>\n",
       "    <tr>\n",
       "      <th>7</th>\n",
       "      <td>2020-02-23</td>\n",
       "      <td>2165.950088</td>\n",
       "      <td>2091.911134</td>\n",
       "      <td>2242.090781</td>\n",
       "    </tr>\n",
       "    <tr>\n",
       "      <th>8</th>\n",
       "      <td>2020-03-01</td>\n",
       "      <td>2368.777492</td>\n",
       "      <td>2296.205562</td>\n",
       "      <td>2439.781203</td>\n",
       "    </tr>\n",
       "    <tr>\n",
       "      <th>9</th>\n",
       "      <td>2020-03-08</td>\n",
       "      <td>2592.129215</td>\n",
       "      <td>2516.222748</td>\n",
       "      <td>2665.243600</td>\n",
       "    </tr>\n",
       "    <tr>\n",
       "      <th>10</th>\n",
       "      <td>2020-03-15</td>\n",
       "      <td>2815.480937</td>\n",
       "      <td>2740.368168</td>\n",
       "      <td>2889.400052</td>\n",
       "    </tr>\n",
       "    <tr>\n",
       "      <th>11</th>\n",
       "      <td>2020-03-22</td>\n",
       "      <td>3038.832660</td>\n",
       "      <td>2965.877824</td>\n",
       "      <td>3112.931301</td>\n",
       "    </tr>\n",
       "    <tr>\n",
       "      <th>12</th>\n",
       "      <td>2020-03-29</td>\n",
       "      <td>3262.184382</td>\n",
       "      <td>3193.658229</td>\n",
       "      <td>3330.573193</td>\n",
       "    </tr>\n",
       "    <tr>\n",
       "      <th>13</th>\n",
       "      <td>2020-04-05</td>\n",
       "      <td>3485.536105</td>\n",
       "      <td>3415.081106</td>\n",
       "      <td>3556.775531</td>\n",
       "    </tr>\n",
       "  </tbody>\n",
       "</table>\n",
       "</div>"
      ],
      "text/plain": [
       "           ds         yhat   yhat_lower   yhat_upper\n",
       "0  2020-01-05   650.013056   575.340147   724.751573\n",
       "1  2020-01-12   805.276259   732.733943   877.244871\n",
       "2  2020-01-19  1028.618571   954.010843  1106.595987\n",
       "3  2020-01-26  1251.960883  1181.141278  1326.374442\n",
       "4  2020-02-02  1475.331938  1398.031466  1543.060399\n",
       "5  2020-02-09  1698.702992  1624.027479  1774.918588\n",
       "6  2020-02-16  1922.074047  1853.093107  1993.654209\n",
       "7  2020-02-23  2165.950088  2091.911134  2242.090781\n",
       "8  2020-03-01  2368.777492  2296.205562  2439.781203\n",
       "9  2020-03-08  2592.129215  2516.222748  2665.243600\n",
       "10 2020-03-15  2815.480937  2740.368168  2889.400052\n",
       "11 2020-03-22  3038.832660  2965.877824  3112.931301\n",
       "12 2020-03-29  3262.184382  3193.658229  3330.573193\n",
       "13 2020-04-05  3485.536105  3415.081106  3556.775531"
      ]
     },
     "execution_count": 6,
     "metadata": {},
     "output_type": "execute_result"
    }
   ],
   "source": [
    "# Проверим качество модели, отрезав от датафрейма данные последних пяти недель и предсказав их:\n",
    "\n",
    "predictions = 5\n",
    "train_df = data[:-predictions]\n",
    "\n",
    "# Праздники, которые будем учитывать:\n",
    "df_holidays_train = df_holidays.iloc[:6].reset_index(drop=True)\n",
    "\n",
    "# Строим прогноз:\n",
    "m = Prophet(\n",
    "    holidays=df_holidays_train,\n",
    "    interval_width=0.95,\n",
    "    n_changepoints=6,\n",
    "    yearly_seasonality=False,\n",
    "    daily_seasonality=False,\n",
    "    weekly_seasonality=False,\n",
    ")\n",
    "m.fit(train_df)\n",
    "\n",
    "future = m.make_future_dataframe(periods=predictions, freq=\"W\")\n",
    "forecast = m.predict(future)\n",
    "\n",
    "# Датафрейм с прогнозом:\n",
    "forecast[[\"ds\", \"yhat\", \"yhat_lower\", \"yhat_upper\"]]\n"
   ]
  },
  {
   "cell_type": "code",
   "execution_count": 7,
   "metadata": {},
   "outputs": [
    {
     "name": "stdout",
     "output_type": "stream",
     "text": [
      "MAPE (средняя абсолютная ошибка в процентах) –  7.148718688845453 %\n",
      "MAE (средняя абсолютная ошибка) –  253.35971518585703\n"
     ]
    }
   ],
   "source": [
    "# Считаем ошибку модели (насколько в среднем отличаются наши предсказанные значения от реальных):\n",
    "\n",
    "cmp_df = forecast.set_index('ds')[['yhat', 'yhat_lower', 'yhat_upper']].join(data.set_index('ds'))\n",
    "cmp_df['e'] = cmp_df['y'] - cmp_df['yhat']\n",
    "cmp_df['p'] = 100*cmp_df['e']/cmp_df['y']\n",
    "print('MAPE (средняя абсолютная ошибка в процентах) – ', np.mean(abs(cmp_df[-predictions:]['p'])),'%')\n",
    "print('MAE (средняя абсолютная ошибка) – ', np.mean(abs(cmp_df[-predictions:]['e'])))\n",
    "\n",
    "# Здесь, если не учитывать влияние праздников, MAPE ~ 7.41%, т.е. влияние праздников хоть и небольшое, но качество модели \n",
    "# чуть-чуть лучше, поэтому прогноз на следующие 3 месяца будем строить с праздниками."
   ]
  },
  {
   "cell_type": "code",
   "execution_count": 8,
   "metadata": {},
   "outputs": [
    {
     "data": {
      "text/html": [
       "<div>\n",
       "<style scoped>\n",
       "    .dataframe tbody tr th:only-of-type {\n",
       "        vertical-align: middle;\n",
       "    }\n",
       "\n",
       "    .dataframe tbody tr th {\n",
       "        vertical-align: top;\n",
       "    }\n",
       "\n",
       "    .dataframe thead th {\n",
       "        text-align: right;\n",
       "    }\n",
       "</style>\n",
       "<table border=\"1\" class=\"dataframe\">\n",
       "  <thead>\n",
       "    <tr style=\"text-align: right;\">\n",
       "      <th></th>\n",
       "      <th>ds</th>\n",
       "      <th>yhat</th>\n",
       "      <th>yhat_lower</th>\n",
       "      <th>yhat_upper</th>\n",
       "      <th>additive_terms</th>\n",
       "    </tr>\n",
       "  </thead>\n",
       "  <tbody>\n",
       "    <tr>\n",
       "      <th>0</th>\n",
       "      <td>2020-01-05</td>\n",
       "      <td>650.001076</td>\n",
       "      <td>427.195078</td>\n",
       "      <td>877.720776</td>\n",
       "      <td>188.715167</td>\n",
       "    </tr>\n",
       "    <tr>\n",
       "      <th>1</th>\n",
       "      <td>2020-01-12</td>\n",
       "      <td>716.842772</td>\n",
       "      <td>471.267011</td>\n",
       "      <td>933.112371</td>\n",
       "      <td>0.000000</td>\n",
       "    </tr>\n",
       "    <tr>\n",
       "      <th>2</th>\n",
       "      <td>2020-01-19</td>\n",
       "      <td>972.399635</td>\n",
       "      <td>750.819104</td>\n",
       "      <td>1198.236387</td>\n",
       "      <td>0.000000</td>\n",
       "    </tr>\n",
       "    <tr>\n",
       "      <th>3</th>\n",
       "      <td>2020-01-26</td>\n",
       "      <td>1227.956498</td>\n",
       "      <td>1007.570190</td>\n",
       "      <td>1441.618601</td>\n",
       "      <td>0.000000</td>\n",
       "    </tr>\n",
       "    <tr>\n",
       "      <th>4</th>\n",
       "      <td>2020-02-02</td>\n",
       "      <td>1483.513362</td>\n",
       "      <td>1234.641927</td>\n",
       "      <td>1712.671074</td>\n",
       "      <td>0.000000</td>\n",
       "    </tr>\n",
       "    <tr>\n",
       "      <th>5</th>\n",
       "      <td>2020-02-09</td>\n",
       "      <td>1739.070226</td>\n",
       "      <td>1513.241301</td>\n",
       "      <td>1968.790508</td>\n",
       "      <td>0.000000</td>\n",
       "    </tr>\n",
       "    <tr>\n",
       "      <th>6</th>\n",
       "      <td>2020-02-16</td>\n",
       "      <td>1994.627194</td>\n",
       "      <td>1770.648977</td>\n",
       "      <td>2216.072143</td>\n",
       "      <td>0.000000</td>\n",
       "    </tr>\n",
       "    <tr>\n",
       "      <th>7</th>\n",
       "      <td>2020-02-23</td>\n",
       "      <td>2166.003156</td>\n",
       "      <td>1936.224877</td>\n",
       "      <td>2395.162558</td>\n",
       "      <td>-84.187015</td>\n",
       "    </tr>\n",
       "    <tr>\n",
       "      <th>8</th>\n",
       "      <td>2020-03-01</td>\n",
       "      <td>2505.757387</td>\n",
       "      <td>2277.499901</td>\n",
       "      <td>2733.523627</td>\n",
       "      <td>0.000000</td>\n",
       "    </tr>\n",
       "    <tr>\n",
       "      <th>9</th>\n",
       "      <td>2020-03-08</td>\n",
       "      <td>2606.997778</td>\n",
       "      <td>2388.011728</td>\n",
       "      <td>2836.445988</td>\n",
       "      <td>-154.347812</td>\n",
       "    </tr>\n",
       "    <tr>\n",
       "      <th>10</th>\n",
       "      <td>2020-03-15</td>\n",
       "      <td>3016.961367</td>\n",
       "      <td>2797.127540</td>\n",
       "      <td>3253.237332</td>\n",
       "      <td>0.000000</td>\n",
       "    </tr>\n",
       "    <tr>\n",
       "      <th>11</th>\n",
       "      <td>2020-03-22</td>\n",
       "      <td>3272.577259</td>\n",
       "      <td>3037.019236</td>\n",
       "      <td>3516.038645</td>\n",
       "      <td>0.000000</td>\n",
       "    </tr>\n",
       "    <tr>\n",
       "      <th>12</th>\n",
       "      <td>2020-03-29</td>\n",
       "      <td>3528.193151</td>\n",
       "      <td>3304.567914</td>\n",
       "      <td>3751.411283</td>\n",
       "      <td>0.000000</td>\n",
       "    </tr>\n",
       "    <tr>\n",
       "      <th>13</th>\n",
       "      <td>2020-04-05</td>\n",
       "      <td>3783.809043</td>\n",
       "      <td>3545.223862</td>\n",
       "      <td>4031.312408</td>\n",
       "      <td>0.000000</td>\n",
       "    </tr>\n",
       "    <tr>\n",
       "      <th>14</th>\n",
       "      <td>2020-04-12</td>\n",
       "      <td>4039.424935</td>\n",
       "      <td>3814.345535</td>\n",
       "      <td>4258.151807</td>\n",
       "      <td>0.000000</td>\n",
       "    </tr>\n",
       "    <tr>\n",
       "      <th>15</th>\n",
       "      <td>2020-04-19</td>\n",
       "      <td>4295.040827</td>\n",
       "      <td>4078.594494</td>\n",
       "      <td>4525.604325</td>\n",
       "      <td>0.000000</td>\n",
       "    </tr>\n",
       "    <tr>\n",
       "      <th>16</th>\n",
       "      <td>2020-04-26</td>\n",
       "      <td>4550.656719</td>\n",
       "      <td>4317.653026</td>\n",
       "      <td>4776.322050</td>\n",
       "      <td>0.000000</td>\n",
       "    </tr>\n",
       "    <tr>\n",
       "      <th>17</th>\n",
       "      <td>2020-05-03</td>\n",
       "      <td>4806.272610</td>\n",
       "      <td>4567.101232</td>\n",
       "      <td>5026.222864</td>\n",
       "      <td>0.000000</td>\n",
       "    </tr>\n",
       "    <tr>\n",
       "      <th>18</th>\n",
       "      <td>2020-05-10</td>\n",
       "      <td>5061.888502</td>\n",
       "      <td>4841.393735</td>\n",
       "      <td>5297.636181</td>\n",
       "      <td>0.000000</td>\n",
       "    </tr>\n",
       "    <tr>\n",
       "      <th>19</th>\n",
       "      <td>2020-05-17</td>\n",
       "      <td>5317.504394</td>\n",
       "      <td>5084.311933</td>\n",
       "      <td>5541.426136</td>\n",
       "      <td>0.000000</td>\n",
       "    </tr>\n",
       "    <tr>\n",
       "      <th>20</th>\n",
       "      <td>2020-05-24</td>\n",
       "      <td>5573.120286</td>\n",
       "      <td>5347.827803</td>\n",
       "      <td>5808.429276</td>\n",
       "      <td>0.000000</td>\n",
       "    </tr>\n",
       "    <tr>\n",
       "      <th>21</th>\n",
       "      <td>2020-05-31</td>\n",
       "      <td>5828.736178</td>\n",
       "      <td>5597.449302</td>\n",
       "      <td>6054.079679</td>\n",
       "      <td>0.000000</td>\n",
       "    </tr>\n",
       "    <tr>\n",
       "      <th>22</th>\n",
       "      <td>2020-06-07</td>\n",
       "      <td>6084.352070</td>\n",
       "      <td>5846.208742</td>\n",
       "      <td>6334.017828</td>\n",
       "      <td>0.000000</td>\n",
       "    </tr>\n",
       "    <tr>\n",
       "      <th>23</th>\n",
       "      <td>2020-06-14</td>\n",
       "      <td>6339.967962</td>\n",
       "      <td>6109.383539</td>\n",
       "      <td>6567.055344</td>\n",
       "      <td>0.000000</td>\n",
       "    </tr>\n",
       "    <tr>\n",
       "      <th>24</th>\n",
       "      <td>2020-06-21</td>\n",
       "      <td>6595.583854</td>\n",
       "      <td>6350.950729</td>\n",
       "      <td>6806.493975</td>\n",
       "      <td>0.000000</td>\n",
       "    </tr>\n",
       "    <tr>\n",
       "      <th>25</th>\n",
       "      <td>2020-06-28</td>\n",
       "      <td>6851.199745</td>\n",
       "      <td>6614.354120</td>\n",
       "      <td>7084.087997</td>\n",
       "      <td>0.000000</td>\n",
       "    </tr>\n",
       "    <tr>\n",
       "      <th>26</th>\n",
       "      <td>2020-07-05</td>\n",
       "      <td>7106.815637</td>\n",
       "      <td>6876.974169</td>\n",
       "      <td>7322.003545</td>\n",
       "      <td>0.000000</td>\n",
       "    </tr>\n",
       "  </tbody>\n",
       "</table>\n",
       "</div>"
      ],
      "text/plain": [
       "           ds         yhat   yhat_lower   yhat_upper  additive_terms\n",
       "0  2020-01-05   650.001076   427.195078   877.720776      188.715167\n",
       "1  2020-01-12   716.842772   471.267011   933.112371        0.000000\n",
       "2  2020-01-19   972.399635   750.819104  1198.236387        0.000000\n",
       "3  2020-01-26  1227.956498  1007.570190  1441.618601        0.000000\n",
       "4  2020-02-02  1483.513362  1234.641927  1712.671074        0.000000\n",
       "5  2020-02-09  1739.070226  1513.241301  1968.790508        0.000000\n",
       "6  2020-02-16  1994.627194  1770.648977  2216.072143        0.000000\n",
       "7  2020-02-23  2166.003156  1936.224877  2395.162558      -84.187015\n",
       "8  2020-03-01  2505.757387  2277.499901  2733.523627        0.000000\n",
       "9  2020-03-08  2606.997778  2388.011728  2836.445988     -154.347812\n",
       "10 2020-03-15  3016.961367  2797.127540  3253.237332        0.000000\n",
       "11 2020-03-22  3272.577259  3037.019236  3516.038645        0.000000\n",
       "12 2020-03-29  3528.193151  3304.567914  3751.411283        0.000000\n",
       "13 2020-04-05  3783.809043  3545.223862  4031.312408        0.000000\n",
       "14 2020-04-12  4039.424935  3814.345535  4258.151807        0.000000\n",
       "15 2020-04-19  4295.040827  4078.594494  4525.604325        0.000000\n",
       "16 2020-04-26  4550.656719  4317.653026  4776.322050        0.000000\n",
       "17 2020-05-03  4806.272610  4567.101232  5026.222864        0.000000\n",
       "18 2020-05-10  5061.888502  4841.393735  5297.636181        0.000000\n",
       "19 2020-05-17  5317.504394  5084.311933  5541.426136        0.000000\n",
       "20 2020-05-24  5573.120286  5347.827803  5808.429276        0.000000\n",
       "21 2020-05-31  5828.736178  5597.449302  6054.079679        0.000000\n",
       "22 2020-06-07  6084.352070  5846.208742  6334.017828        0.000000\n",
       "23 2020-06-14  6339.967962  6109.383539  6567.055344        0.000000\n",
       "24 2020-06-21  6595.583854  6350.950729  6806.493975        0.000000\n",
       "25 2020-06-28  6851.199745  6614.354120  7084.087997        0.000000\n",
       "26 2020-07-05  7106.815637  6876.974169  7322.003545        0.000000"
      ]
     },
     "execution_count": 8,
     "metadata": {},
     "output_type": "execute_result"
    }
   ],
   "source": [
    "# Теперь строим прогноз на следующие 3 месяца (уже на основе всех имеющихся данных):\n",
    "\n",
    "predictions = 13\n",
    "\n",
    "m = Prophet(\n",
    "    holidays=df_holidays,\n",
    "    interval_width=0.95,\n",
    "    n_changepoints=10,\n",
    "    yearly_seasonality=False,\n",
    "    daily_seasonality=False,\n",
    "    weekly_seasonality=False,\n",
    ")\n",
    "m.fit(data)\n",
    "future = m.make_future_dataframe(periods=predictions,freq='W')\n",
    "forecast = m.predict(future)\n",
    "forecast[['ds', 'yhat', 'yhat_lower', 'yhat_upper', 'additive_terms']]"
   ]
  },
  {
   "cell_type": "code",
   "execution_count": 9,
   "metadata": {},
   "outputs": [
    {
     "data": {
      "image/png": "[encoded data removed]",
      "text/plain": [
       "<Figure size 720x432 with 1 Axes>"
      ]
     },
     "metadata": {},
     "output_type": "display_data"
    }
   ],
   "source": [
    "fig = m.plot(forecast)"
   ]
  },
  {
   "cell_type": "code",
   "execution_count": 10,
   "metadata": {},
   "outputs": [
    {
     "data": {
      "image/png": "[encoded data removed]",
      "text/plain": [
       "<Figure size 648x432 with 2 Axes>"
      ]
     },
     "metadata": {},
     "output_type": "display_data"
    }
   ],
   "source": [
    "fig = m.plot_components(forecast)"
   ]
  },
  {
   "cell_type": "markdown",
   "metadata": {},
   "source": [
    "Итак, fbprophet построил нам наш прогноз по линейной зависимости. Также необходимо отметить влияние праздников: 8 марта и 23 февраля отрицательно влияют на число заказов, причем 8ое марта сильнее - заказов в эти дни меньше, а новогодние праздники - положительно. Непосредственно на нашем прогнозе это никак не сказывается, но может быть полезным в будущем. В реальности рост числа заказов скорее всего не будет линейным (или будет ~ таковым только ограниченное время)(??)"
   ]
  },
  {
   "cell_type": "code",
   "execution_count": 12,
   "metadata": {},
   "outputs": [
    {
     "data": {
      "text/html": [
       "        <script type=\"text/javascript\">\n",
       "        window.PlotlyConfig = {MathJaxConfig: 'local'};\n",
       "        if (window.MathJax) {MathJax.Hub.Config({SVG: {font: \"STIX-Web\"}});}\n",
       "        if (typeof require !== 'undefined') {\n",
       "        require.undef(\"plotly\");\n",
       "        requirejs.config({\n",
       "            paths: {\n",
       "                'plotly': ['https://cdn.plot.ly/plotly-latest.min']\n",
       "            }\n",
       "        });\n",
       "        require(['plotly'], function(Plotly) {\n",
       "            window._Plotly = Plotly;\n",
       "        });\n",
       "        }\n",
       "        </script>\n",
       "        "
      ]
     },
     "metadata": {},
     "output_type": "display_data"
    },
    {
     "data": {
      "application/vnd.plotly.v1+json": {
       "config": {
        "linkText": "Export to plot.ly",
        "plotlyServerURL": "https://plot.ly",
        "showLink": false
       },
       "data": [
        {
         "name": "fact",
         "type": "scatter",
         "x": [
          "2020-01-05T00:00:00",
          "2020-01-12T00:00:00",
          "2020-01-19T00:00:00",
          "2020-01-26T00:00:00",
          "2020-02-02T00:00:00",
          "2020-02-09T00:00:00",
          "2020-02-16T00:00:00",
          "2020-02-23T00:00:00",
          "2020-03-01T00:00:00",
          "2020-03-08T00:00:00",
          "2020-03-15T00:00:00",
          "2020-03-22T00:00:00",
          "2020-03-29T00:00:00",
          "2020-04-05T00:00:00"
         ],
         "y": [
          650,
          837,
          1020,
          1176,
          1489,
          1703.7383177570093,
          1991,
          2166,
          2334,
          2607,
          2734,
          3492,
          3608,
          3857
         ]
        },
        {
         "name": "prediction",
         "type": "scatter",
         "x": [
          "2020-01-05T00:00:00",
          "2020-01-12T00:00:00",
          "2020-01-19T00:00:00",
          "2020-01-26T00:00:00",
          "2020-02-02T00:00:00",
          "2020-02-09T00:00:00",
          "2020-02-16T00:00:00",
          "2020-02-23T00:00:00",
          "2020-03-01T00:00:00",
          "2020-03-08T00:00:00",
          "2020-03-15T00:00:00",
          "2020-03-22T00:00:00",
          "2020-03-29T00:00:00",
          "2020-04-05T00:00:00",
          "2020-04-12T00:00:00",
          "2020-04-19T00:00:00",
          "2020-04-26T00:00:00",
          "2020-05-03T00:00:00",
          "2020-05-10T00:00:00",
          "2020-05-17T00:00:00",
          "2020-05-24T00:00:00",
          "2020-05-31T00:00:00",
          "2020-06-07T00:00:00",
          "2020-06-14T00:00:00",
          "2020-06-21T00:00:00",
          "2020-06-28T00:00:00",
          "2020-07-05T00:00:00"
         ],
         "y": [
          650.0010762577527,
          716.8427723195376,
          972.3996348637423,
          1227.9564984325502,
          1483.5133624699633,
          1739.0702263114645,
          1994.6271944766306,
          2166.0031561438836,
          2505.757386501075,
          2606.9977782889437,
          3016.9613674429393,
          3272.577259304978,
          3528.1931511670164,
          3783.8090430290545,
          4039.4249348910935,
          4295.040826753132,
          4550.656718615171,
          4806.272610477209,
          5061.888502339248,
          5317.504394201286,
          5573.120286063325,
          5828.736177925363,
          6084.352069787402,
          6339.96796164944,
          6595.583853511479,
          6851.1997453735175,
          7106.815637235556
         ]
        },
        {
         "fill": "tonexty",
         "mode": "none",
         "name": "upper",
         "type": "scatter",
         "x": [
          "2020-01-05T00:00:00",
          "2020-01-12T00:00:00",
          "2020-01-19T00:00:00",
          "2020-01-26T00:00:00",
          "2020-02-02T00:00:00",
          "2020-02-09T00:00:00",
          "2020-02-16T00:00:00",
          "2020-02-23T00:00:00",
          "2020-03-01T00:00:00",
          "2020-03-08T00:00:00",
          "2020-03-15T00:00:00",
          "2020-03-22T00:00:00",
          "2020-03-29T00:00:00",
          "2020-04-05T00:00:00",
          "2020-04-12T00:00:00",
          "2020-04-19T00:00:00",
          "2020-04-26T00:00:00",
          "2020-05-03T00:00:00",
          "2020-05-10T00:00:00",
          "2020-05-17T00:00:00",
          "2020-05-24T00:00:00",
          "2020-05-31T00:00:00",
          "2020-06-07T00:00:00",
          "2020-06-14T00:00:00",
          "2020-06-21T00:00:00",
          "2020-06-28T00:00:00",
          "2020-07-05T00:00:00"
         ],
         "y": [
          877.7207757170366,
          933.1123710158489,
          1198.236386553056,
          1441.6186008037862,
          1712.6710743087294,
          1968.790508167716,
          2216.0721429096734,
          2395.1625582370657,
          2733.5236274625818,
          2836.445987996637,
          3253.2373322670196,
          3516.0386445253016,
          3751.411282625594,
          4031.3124078718583,
          4258.1518065741475,
          4525.604325210514,
          4776.322049956818,
          5026.222863727846,
          5297.636180867932,
          5541.426135654603,
          5808.42927603068,
          6054.079679300241,
          6334.017827927019,
          6567.055343874235,
          6806.493975048493,
          7084.087996966215,
          7322.003545496147
         ]
        },
        {
         "fill": "tonexty",
         "mode": "none",
         "name": "lower",
         "type": "scatter",
         "x": [
          "2020-01-05T00:00:00",
          "2020-01-12T00:00:00",
          "2020-01-19T00:00:00",
          "2020-01-26T00:00:00",
          "2020-02-02T00:00:00",
          "2020-02-09T00:00:00",
          "2020-02-16T00:00:00",
          "2020-02-23T00:00:00",
          "2020-03-01T00:00:00",
          "2020-03-08T00:00:00",
          "2020-03-15T00:00:00",
          "2020-03-22T00:00:00",
          "2020-03-29T00:00:00",
          "2020-04-05T00:00:00",
          "2020-04-12T00:00:00",
          "2020-04-19T00:00:00",
          "2020-04-26T00:00:00",
          "2020-05-03T00:00:00",
          "2020-05-10T00:00:00",
          "2020-05-17T00:00:00",
          "2020-05-24T00:00:00",
          "2020-05-31T00:00:00",
          "2020-06-07T00:00:00",
          "2020-06-14T00:00:00",
          "2020-06-21T00:00:00",
          "2020-06-28T00:00:00",
          "2020-07-05T00:00:00"
         ],
         "y": [
          427.19507767318,
          471.267011118235,
          750.8191036764796,
          1007.5701899144836,
          1234.6419271321,
          1513.2413007313423,
          1770.6489769485104,
          1936.2248769303428,
          2277.499901261389,
          2388.011728280169,
          2797.1275397429636,
          3037.0192363021106,
          3304.5679142226923,
          3545.2238621892616,
          3814.3455346778846,
          4078.594494167627,
          4317.653025843429,
          4567.101232290908,
          4841.393734825529,
          5084.311932860075,
          5347.827802750763,
          5597.449302123811,
          5846.208741664335,
          6109.383538566321,
          6350.950729162042,
          6614.3541198758185,
          6876.974169105072
         ]
        },
        {
         "name": "trend",
         "type": "scatter",
         "x": [
          "2020-01-05T00:00:00",
          "2020-01-12T00:00:00",
          "2020-01-19T00:00:00",
          "2020-01-26T00:00:00",
          "2020-02-02T00:00:00",
          "2020-02-09T00:00:00",
          "2020-02-16T00:00:00",
          "2020-02-23T00:00:00",
          "2020-03-01T00:00:00",
          "2020-03-08T00:00:00",
          "2020-03-15T00:00:00",
          "2020-03-22T00:00:00",
          "2020-03-29T00:00:00",
          "2020-04-05T00:00:00",
          "2020-04-12T00:00:00",
          "2020-04-19T00:00:00",
          "2020-04-26T00:00:00",
          "2020-05-03T00:00:00",
          "2020-05-10T00:00:00",
          "2020-05-17T00:00:00",
          "2020-05-24T00:00:00",
          "2020-05-31T00:00:00",
          "2020-06-07T00:00:00",
          "2020-06-14T00:00:00",
          "2020-06-21T00:00:00",
          "2020-06-28T00:00:00",
          "2020-07-05T00:00:00"
         ],
         "y": [
          461.2859092198431,
          716.8427723195376,
          972.3996348637423,
          1227.9564984325502,
          1483.5133624699633,
          1739.0702263114645,
          1994.6271944766306,
          2250.1901709413155,
          2505.757386501075,
          2761.345590357663,
          3016.9613674429393,
          3272.577259304978,
          3528.1931511670164,
          3783.8090430290545,
          4039.4249348910935,
          4295.040826753132,
          4550.656718615171,
          4806.272610477209,
          5061.888502339248,
          5317.504394201286,
          5573.120286063325,
          5828.736177925363,
          6084.352069787402,
          6339.96796164944,
          6595.583853511479,
          6851.1997453735175,
          7106.815637235556
         ]
        }
       ],
       "layout": {
        "template": {
         "data": {
          "bar": [
           {
            "error_x": {
             "color": "#2a3f5f"
            },
            "error_y": {
             "color": "#2a3f5f"
            },
            "marker": {
             "line": {
              "color": "#E5ECF6",
              "width": 0.5
             }
            },
            "type": "bar"
           }
          ],
          "barpolar": [
           {
            "marker": {
             "line": {
              "color": "#E5ECF6",
              "width": 0.5
             }
            },
            "type": "barpolar"
           }
          ],
          "carpet": [
           {
            "aaxis": {
             "endlinecolor": "#2a3f5f",
             "gridcolor": "white",
             "linecolor": "white",
             "minorgridcolor": "white",
             "startlinecolor": "#2a3f5f"
            },
            "baxis": {
             "endlinecolor": "#2a3f5f",
             "gridcolor": "white",
             "linecolor": "white",
             "minorgridcolor": "white",
             "startlinecolor": "#2a3f5f"
            },
            "type": "carpet"
           }
          ],
          "choropleth": [
           {
            "colorbar": {
             "outlinewidth": 0,
             "ticks": ""
            },
            "type": "choropleth"
           }
          ],
          "contour": [
           {
            "colorbar": {
             "outlinewidth": 0,
             "ticks": ""
            },
            "colorscale": [
             [
              0,
              "#0d0887"
             ],
             [
              0.1111111111111111,
              "#46039f"
             ],
             [
              0.2222222222222222,
              "#7201a8"
             ],
             [
              0.3333333333333333,
              "#9c179e"
             ],
             [
              0.4444444444444444,
              "#bd3786"
             ],
             [
              0.5555555555555556,
              "#d8576b"
             ],
             [
              0.6666666666666666,
              "#ed7953"
             ],
             [
              0.7777777777777778,
              "#fb9f3a"
             ],
             [
              0.8888888888888888,
              "#fdca26"
             ],
             [
              1,
              "#f0f921"
             ]
            ],
            "type": "contour"
           }
          ],
          "contourcarpet": [
           {
            "colorbar": {
             "outlinewidth": 0,
             "ticks": ""
            },
            "type": "contourcarpet"
           }
          ],
          "heatmap": [
           {
            "colorbar": {
             "outlinewidth": 0,
             "ticks": ""
            },
            "colorscale": [
             [
              0,
              "#0d0887"
             ],
             [
              0.1111111111111111,
              "#46039f"
             ],
             [
              0.2222222222222222,
              "#7201a8"
             ],
             [
              0.3333333333333333,
              "#9c179e"
             ],
             [
              0.4444444444444444,
              "#bd3786"
             ],
             [
              0.5555555555555556,
              "#d8576b"
             ],
             [
              0.6666666666666666,
              "#ed7953"
             ],
             [
              0.7777777777777778,
              "#fb9f3a"
             ],
             [
              0.8888888888888888,
              "#fdca26"
             ],
             [
              1,
              "#f0f921"
             ]
            ],
            "type": "heatmap"
           }
          ],
          "heatmapgl": [
           {
            "colorbar": {
             "outlinewidth": 0,
             "ticks": ""
            },
            "colorscale": [
             [
              0,
              "#0d0887"
             ],
             [
              0.1111111111111111,
              "#46039f"
             ],
             [
              0.2222222222222222,
              "#7201a8"
             ],
             [
              0.3333333333333333,
              "#9c179e"
             ],
             [
              0.4444444444444444,
              "#bd3786"
             ],
             [
              0.5555555555555556,
              "#d8576b"
             ],
             [
              0.6666666666666666,
              "#ed7953"
             ],
             [
              0.7777777777777778,
              "#fb9f3a"
             ],
             [
              0.8888888888888888,
              "#fdca26"
             ],
             [
              1,
              "#f0f921"
             ]
            ],
            "type": "heatmapgl"
           }
          ],
          "histogram": [
           {
            "marker": {
             "colorbar": {
              "outlinewidth": 0,
              "ticks": ""
             }
            },
            "type": "histogram"
           }
          ],
          "histogram2d": [
           {
            "colorbar": {
             "outlinewidth": 0,
             "ticks": ""
            },
            "colorscale": [
             [
              0,
              "#0d0887"
             ],
             [
              0.1111111111111111,
              "#46039f"
             ],
             [
              0.2222222222222222,
              "#7201a8"
             ],
             [
              0.3333333333333333,
              "#9c179e"
             ],
             [
              0.4444444444444444,
              "#bd3786"
             ],
             [
              0.5555555555555556,
              "#d8576b"
             ],
             [
              0.6666666666666666,
              "#ed7953"
             ],
             [
              0.7777777777777778,
              "#fb9f3a"
             ],
             [
              0.8888888888888888,
              "#fdca26"
             ],
             [
              1,
              "#f0f921"
             ]
            ],
            "type": "histogram2d"
           }
          ],
          "histogram2dcontour": [
           {
            "colorbar": {
             "outlinewidth": 0,
             "ticks": ""
            },
            "colorscale": [
             [
              0,
              "#0d0887"
             ],
             [
              0.1111111111111111,
              "#46039f"
             ],
             [
              0.2222222222222222,
              "#7201a8"
             ],
             [
              0.3333333333333333,
              "#9c179e"
             ],
             [
              0.4444444444444444,
              "#bd3786"
             ],
             [
              0.5555555555555556,
              "#d8576b"
             ],
             [
              0.6666666666666666,
              "#ed7953"
             ],
             [
              0.7777777777777778,
              "#fb9f3a"
             ],
             [
              0.8888888888888888,
              "#fdca26"
             ],
             [
              1,
              "#f0f921"
             ]
            ],
            "type": "histogram2dcontour"
           }
          ],
          "mesh3d": [
           {
            "colorbar": {
             "outlinewidth": 0,
             "ticks": ""
            },
            "type": "mesh3d"
           }
          ],
          "parcoords": [
           {
            "line": {
             "colorbar": {
              "outlinewidth": 0,
              "ticks": ""
             }
            },
            "type": "parcoords"
           }
          ],
          "pie": [
           {
            "automargin": true,
            "type": "pie"
           }
          ],
          "scatter": [
           {
            "marker": {
             "colorbar": {
              "outlinewidth": 0,
              "ticks": ""
             }
            },
            "type": "scatter"
           }
          ],
          "scatter3d": [
           {
            "line": {
             "colorbar": {
              "outlinewidth": 0,
              "ticks": ""
             }
            },
            "marker": {
             "colorbar": {
              "outlinewidth": 0,
              "ticks": ""
             }
            },
            "type": "scatter3d"
           }
          ],
          "scattercarpet": [
           {
            "marker": {
             "colorbar": {
              "outlinewidth": 0,
              "ticks": ""
             }
            },
            "type": "scattercarpet"
           }
          ],
          "scattergeo": [
           {
            "marker": {
             "colorbar": {
              "outlinewidth": 0,
              "ticks": ""
             }
            },
            "type": "scattergeo"
           }
          ],
          "scattergl": [
           {
            "marker": {
             "colorbar": {
              "outlinewidth": 0,
              "ticks": ""
             }
            },
            "type": "scattergl"
           }
          ],
          "scattermapbox": [
           {
            "marker": {
             "colorbar": {
              "outlinewidth": 0,
              "ticks": ""
             }
            },
            "type": "scattermapbox"
           }
          ],
          "scatterpolar": [
           {
            "marker": {
             "colorbar": {
              "outlinewidth": 0,
              "ticks": ""
             }
            },
            "type": "scatterpolar"
           }
          ],
          "scatterpolargl": [
           {
            "marker": {
             "colorbar": {
              "outlinewidth": 0,
              "ticks": ""
             }
            },
            "type": "scatterpolargl"
           }
          ],
          "scatterternary": [
           {
            "marker": {
             "colorbar": {
              "outlinewidth": 0,
              "ticks": ""
             }
            },
            "type": "scatterternary"
           }
          ],
          "surface": [
           {
            "colorbar": {
             "outlinewidth": 0,
             "ticks": ""
            },
            "colorscale": [
             [
              0,
              "#0d0887"
             ],
             [
              0.1111111111111111,
              "#46039f"
             ],
             [
              0.2222222222222222,
              "#7201a8"
             ],
             [
              0.3333333333333333,
              "#9c179e"
             ],
             [
              0.4444444444444444,
              "#bd3786"
             ],
             [
              0.5555555555555556,
              "#d8576b"
             ],
             [
              0.6666666666666666,
              "#ed7953"
             ],
             [
              0.7777777777777778,
              "#fb9f3a"
             ],
             [
              0.8888888888888888,
              "#fdca26"
             ],
             [
              1,
              "#f0f921"
             ]
            ],
            "type": "surface"
           }
          ],
          "table": [
           {
            "cells": {
             "fill": {
              "color": "#EBF0F8"
             },
             "line": {
              "color": "white"
             }
            },
            "header": {
             "fill": {
              "color": "#C8D4E3"
             },
             "line": {
              "color": "white"
             }
            },
            "type": "table"
           }
          ]
         },
         "layout": {
          "annotationdefaults": {
           "arrowcolor": "#2a3f5f",
           "arrowhead": 0,
           "arrowwidth": 1
          },
          "coloraxis": {
           "colorbar": {
            "outlinewidth": 0,
            "ticks": ""
           }
          },
          "colorscale": {
           "diverging": [
            [
             0,
             "#8e0152"
            ],
            [
             0.1,
             "#c51b7d"
            ],
            [
             0.2,
             "#de77ae"
            ],
            [
             0.3,
             "#f1b6da"
            ],
            [
             0.4,
             "#fde0ef"
            ],
            [
             0.5,
             "#f7f7f7"
            ],
            [
             0.6,
             "#e6f5d0"
            ],
            [
             0.7,
             "#b8e186"
            ],
            [
             0.8,
             "#7fbc41"
            ],
            [
             0.9,
             "#4d9221"
            ],
            [
             1,
             "#276419"
            ]
           ],
           "sequential": [
            [
             0,
             "#0d0887"
            ],
            [
             0.1111111111111111,
             "#46039f"
            ],
            [
             0.2222222222222222,
             "#7201a8"
            ],
            [
             0.3333333333333333,
             "#9c179e"
            ],
            [
             0.4444444444444444,
             "#bd3786"
            ],
            [
             0.5555555555555556,
             "#d8576b"
            ],
            [
             0.6666666666666666,
             "#ed7953"
            ],
            [
             0.7777777777777778,
             "#fb9f3a"
            ],
            [
             0.8888888888888888,
             "#fdca26"
            ],
            [
             1,
             "#f0f921"
            ]
           ],
           "sequentialminus": [
            [
             0,
             "#0d0887"
            ],
            [
             0.1111111111111111,
             "#46039f"
            ],
            [
             0.2222222222222222,
             "#7201a8"
            ],
            [
             0.3333333333333333,
             "#9c179e"
            ],
            [
             0.4444444444444444,
             "#bd3786"
            ],
            [
             0.5555555555555556,
             "#d8576b"
            ],
            [
             0.6666666666666666,
             "#ed7953"
            ],
            [
             0.7777777777777778,
             "#fb9f3a"
            ],
            [
             0.8888888888888888,
             "#fdca26"
            ],
            [
             1,
             "#f0f921"
            ]
           ]
          },
          "colorway": [
           "#636efa",
           "#EF553B",
           "#00cc96",
           "#ab63fa",
           "#FFA15A",
           "#19d3f3",
           "#FF6692",
           "#B6E880",
           "#FF97FF",
           "#FECB52"
          ],
          "font": {
           "color": "#2a3f5f"
          },
          "geo": {
           "bgcolor": "white",
           "lakecolor": "white",
           "landcolor": "#E5ECF6",
           "showlakes": true,
           "showland": true,
           "subunitcolor": "white"
          },
          "hoverlabel": {
           "align": "left"
          },
          "hovermode": "closest",
          "mapbox": {
           "style": "light"
          },
          "paper_bgcolor": "white",
          "plot_bgcolor": "#E5ECF6",
          "polar": {
           "angularaxis": {
            "gridcolor": "white",
            "linecolor": "white",
            "ticks": ""
           },
           "bgcolor": "#E5ECF6",
           "radialaxis": {
            "gridcolor": "white",
            "linecolor": "white",
            "ticks": ""
           }
          },
          "scene": {
           "xaxis": {
            "backgroundcolor": "#E5ECF6",
            "gridcolor": "white",
            "gridwidth": 2,
            "linecolor": "white",
            "showbackground": true,
            "ticks": "",
            "zerolinecolor": "white"
           },
           "yaxis": {
            "backgroundcolor": "#E5ECF6",
            "gridcolor": "white",
            "gridwidth": 2,
            "linecolor": "white",
            "showbackground": true,
            "ticks": "",
            "zerolinecolor": "white"
           },
           "zaxis": {
            "backgroundcolor": "#E5ECF6",
            "gridcolor": "white",
            "gridwidth": 2,
            "linecolor": "white",
            "showbackground": true,
            "ticks": "",
            "zerolinecolor": "white"
           }
          },
          "shapedefaults": {
           "line": {
            "color": "#2a3f5f"
           }
          },
          "ternary": {
           "aaxis": {
            "gridcolor": "white",
            "linecolor": "white",
            "ticks": ""
           },
           "baxis": {
            "gridcolor": "white",
            "linecolor": "white",
            "ticks": ""
           },
           "bgcolor": "#E5ECF6",
           "caxis": {
            "gridcolor": "white",
            "linecolor": "white",
            "ticks": ""
           }
          },
          "title": {
           "x": 0.05
          },
          "xaxis": {
           "automargin": true,
           "gridcolor": "white",
           "linecolor": "white",
           "ticks": "",
           "title": {
            "standoff": 15
           },
           "zerolinecolor": "white",
           "zerolinewidth": 2
          },
          "yaxis": {
           "automargin": true,
           "gridcolor": "white",
           "linecolor": "white",
           "ticks": "",
           "title": {
            "standoff": 15
           },
           "zerolinecolor": "white",
           "zerolinewidth": 2
          }
         }
        }
       }
      },
      "text/html": [
       "<div>\n",
       "        \n",
       "        \n",
       "            <div id=\"445b93ba-c754-46f8-97ee-bb509938ce80\" class=\"plotly-graph-div\" style=\"height:525px; width:100%;\"></div>\n",
       "            <script type=\"text/javascript\">\n",
       "                require([\"plotly\"], function(Plotly) {\n",
       "                    window.PLOTLYENV=window.PLOTLYENV || {};\n",
       "                    \n",
       "                if (document.getElementById(\"445b93ba-c754-46f8-97ee-bb509938ce80\")) {\n",
       "                    Plotly.newPlot(\n",
       "                        '445b93ba-c754-46f8-97ee-bb509938ce80',\n",
       "                        [{\"name\": \"fact\", \"type\": \"scatter\", \"x\": [\"2020-01-05T00:00:00\", \"2020-01-12T00:00:00\", \"2020-01-19T00:00:00\", \"2020-01-26T00:00:00\", \"2020-02-02T00:00:00\", \"2020-02-09T00:00:00\", \"2020-02-16T00:00:00\", \"2020-02-23T00:00:00\", \"2020-03-01T00:00:00\", \"2020-03-08T00:00:00\", \"2020-03-15T00:00:00\", \"2020-03-22T00:00:00\", \"2020-03-29T00:00:00\", \"2020-04-05T00:00:00\"], \"y\": [650.0, 837.0, 1020.0, 1176.0, 1489.0, 1703.7383177570093, 1991.0, 2166.0, 2334.0, 2607.0, 2734.0, 3492.0, 3608.0, 3857.0]}, {\"name\": \"prediction\", \"type\": \"scatter\", \"x\": [\"2020-01-05T00:00:00\", \"2020-01-12T00:00:00\", \"2020-01-19T00:00:00\", \"2020-01-26T00:00:00\", \"2020-02-02T00:00:00\", \"2020-02-09T00:00:00\", \"2020-02-16T00:00:00\", \"2020-02-23T00:00:00\", \"2020-03-01T00:00:00\", \"2020-03-08T00:00:00\", \"2020-03-15T00:00:00\", \"2020-03-22T00:00:00\", \"2020-03-29T00:00:00\", \"2020-04-05T00:00:00\", \"2020-04-12T00:00:00\", \"2020-04-19T00:00:00\", \"2020-04-26T00:00:00\", \"2020-05-03T00:00:00\", \"2020-05-10T00:00:00\", \"2020-05-17T00:00:00\", \"2020-05-24T00:00:00\", \"2020-05-31T00:00:00\", \"2020-06-07T00:00:00\", \"2020-06-14T00:00:00\", \"2020-06-21T00:00:00\", \"2020-06-28T00:00:00\", \"2020-07-05T00:00:00\"], \"y\": [650.0010762577527, 716.8427723195376, 972.3996348637423, 1227.9564984325502, 1483.5133624699633, 1739.0702263114645, 1994.6271944766306, 2166.0031561438836, 2505.757386501075, 2606.9977782889437, 3016.9613674429393, 3272.577259304978, 3528.1931511670164, 3783.8090430290545, 4039.4249348910935, 4295.040826753132, 4550.656718615171, 4806.272610477209, 5061.888502339248, 5317.504394201286, 5573.120286063325, 5828.736177925363, 6084.352069787402, 6339.96796164944, 6595.583853511479, 6851.1997453735175, 7106.815637235556]}, {\"fill\": \"tonexty\", \"mode\": \"none\", \"name\": \"upper\", \"type\": \"scatter\", \"x\": [\"2020-01-05T00:00:00\", \"2020-01-12T00:00:00\", \"2020-01-19T00:00:00\", \"2020-01-26T00:00:00\", \"2020-02-02T00:00:00\", \"2020-02-09T00:00:00\", \"2020-02-16T00:00:00\", \"2020-02-23T00:00:00\", \"2020-03-01T00:00:00\", \"2020-03-08T00:00:00\", \"2020-03-15T00:00:00\", \"2020-03-22T00:00:00\", \"2020-03-29T00:00:00\", \"2020-04-05T00:00:00\", \"2020-04-12T00:00:00\", \"2020-04-19T00:00:00\", \"2020-04-26T00:00:00\", \"2020-05-03T00:00:00\", \"2020-05-10T00:00:00\", \"2020-05-17T00:00:00\", \"2020-05-24T00:00:00\", \"2020-05-31T00:00:00\", \"2020-06-07T00:00:00\", \"2020-06-14T00:00:00\", \"2020-06-21T00:00:00\", \"2020-06-28T00:00:00\", \"2020-07-05T00:00:00\"], \"y\": [877.7207757170366, 933.1123710158489, 1198.236386553056, 1441.6186008037862, 1712.6710743087294, 1968.790508167716, 2216.0721429096734, 2395.1625582370657, 2733.5236274625818, 2836.445987996637, 3253.2373322670196, 3516.0386445253016, 3751.411282625594, 4031.3124078718583, 4258.1518065741475, 4525.604325210514, 4776.322049956818, 5026.222863727846, 5297.636180867932, 5541.426135654603, 5808.42927603068, 6054.079679300241, 6334.017827927019, 6567.055343874235, 6806.493975048493, 7084.087996966215, 7322.003545496147]}, {\"fill\": \"tonexty\", \"mode\": \"none\", \"name\": \"lower\", \"type\": \"scatter\", \"x\": [\"2020-01-05T00:00:00\", \"2020-01-12T00:00:00\", \"2020-01-19T00:00:00\", \"2020-01-26T00:00:00\", \"2020-02-02T00:00:00\", \"2020-02-09T00:00:00\", \"2020-02-16T00:00:00\", \"2020-02-23T00:00:00\", \"2020-03-01T00:00:00\", \"2020-03-08T00:00:00\", \"2020-03-15T00:00:00\", \"2020-03-22T00:00:00\", \"2020-03-29T00:00:00\", \"2020-04-05T00:00:00\", \"2020-04-12T00:00:00\", \"2020-04-19T00:00:00\", \"2020-04-26T00:00:00\", \"2020-05-03T00:00:00\", \"2020-05-10T00:00:00\", \"2020-05-17T00:00:00\", \"2020-05-24T00:00:00\", \"2020-05-31T00:00:00\", \"2020-06-07T00:00:00\", \"2020-06-14T00:00:00\", \"2020-06-21T00:00:00\", \"2020-06-28T00:00:00\", \"2020-07-05T00:00:00\"], \"y\": [427.19507767318, 471.267011118235, 750.8191036764796, 1007.5701899144836, 1234.6419271321, 1513.2413007313423, 1770.6489769485104, 1936.2248769303428, 2277.499901261389, 2388.011728280169, 2797.1275397429636, 3037.0192363021106, 3304.5679142226923, 3545.2238621892616, 3814.3455346778846, 4078.594494167627, 4317.653025843429, 4567.101232290908, 4841.393734825529, 5084.311932860075, 5347.827802750763, 5597.449302123811, 5846.208741664335, 6109.383538566321, 6350.950729162042, 6614.3541198758185, 6876.974169105072]}, {\"name\": \"trend\", \"type\": \"scatter\", \"x\": [\"2020-01-05T00:00:00\", \"2020-01-12T00:00:00\", \"2020-01-19T00:00:00\", \"2020-01-26T00:00:00\", \"2020-02-02T00:00:00\", \"2020-02-09T00:00:00\", \"2020-02-16T00:00:00\", \"2020-02-23T00:00:00\", \"2020-03-01T00:00:00\", \"2020-03-08T00:00:00\", \"2020-03-15T00:00:00\", \"2020-03-22T00:00:00\", \"2020-03-29T00:00:00\", \"2020-04-05T00:00:00\", \"2020-04-12T00:00:00\", \"2020-04-19T00:00:00\", \"2020-04-26T00:00:00\", \"2020-05-03T00:00:00\", \"2020-05-10T00:00:00\", \"2020-05-17T00:00:00\", \"2020-05-24T00:00:00\", \"2020-05-31T00:00:00\", \"2020-06-07T00:00:00\", \"2020-06-14T00:00:00\", \"2020-06-21T00:00:00\", \"2020-06-28T00:00:00\", \"2020-07-05T00:00:00\"], \"y\": [461.2859092198431, 716.8427723195376, 972.3996348637423, 1227.9564984325502, 1483.5133624699633, 1739.0702263114645, 1994.6271944766306, 2250.1901709413155, 2505.757386501075, 2761.345590357663, 3016.9613674429393, 3272.577259304978, 3528.1931511670164, 3783.8090430290545, 4039.4249348910935, 4295.040826753132, 4550.656718615171, 4806.272610477209, 5061.888502339248, 5317.504394201286, 5573.120286063325, 5828.736177925363, 6084.352069787402, 6339.96796164944, 6595.583853511479, 6851.1997453735175, 7106.815637235556]}],\n",
       "                        {\"template\": {\"data\": {\"bar\": [{\"error_x\": {\"color\": \"#2a3f5f\"}, \"error_y\": {\"color\": \"#2a3f5f\"}, \"marker\": {\"line\": {\"color\": \"#E5ECF6\", \"width\": 0.5}}, \"type\": \"bar\"}], \"barpolar\": [{\"marker\": {\"line\": {\"color\": \"#E5ECF6\", \"width\": 0.5}}, \"type\": \"barpolar\"}], \"carpet\": [{\"aaxis\": {\"endlinecolor\": \"#2a3f5f\", \"gridcolor\": \"white\", \"linecolor\": \"white\", \"minorgridcolor\": \"white\", \"startlinecolor\": \"#2a3f5f\"}, \"baxis\": {\"endlinecolor\": \"#2a3f5f\", \"gridcolor\": \"white\", \"linecolor\": \"white\", \"minorgridcolor\": \"white\", \"startlinecolor\": \"#2a3f5f\"}, \"type\": \"carpet\"}], \"choropleth\": [{\"colorbar\": {\"outlinewidth\": 0, \"ticks\": \"\"}, \"type\": \"choropleth\"}], \"contour\": [{\"colorbar\": {\"outlinewidth\": 0, \"ticks\": \"\"}, \"colorscale\": [[0.0, \"#0d0887\"], [0.1111111111111111, \"#46039f\"], [0.2222222222222222, \"#7201a8\"], [0.3333333333333333, \"#9c179e\"], [0.4444444444444444, \"#bd3786\"], [0.5555555555555556, \"#d8576b\"], [0.6666666666666666, \"#ed7953\"], [0.7777777777777778, \"#fb9f3a\"], [0.8888888888888888, \"#fdca26\"], [1.0, \"#f0f921\"]], \"type\": \"contour\"}], \"contourcarpet\": [{\"colorbar\": {\"outlinewidth\": 0, \"ticks\": \"\"}, \"type\": \"contourcarpet\"}], \"heatmap\": [{\"colorbar\": {\"outlinewidth\": 0, \"ticks\": \"\"}, \"colorscale\": [[0.0, \"#0d0887\"], [0.1111111111111111, \"#46039f\"], [0.2222222222222222, \"#7201a8\"], [0.3333333333333333, \"#9c179e\"], [0.4444444444444444, \"#bd3786\"], [0.5555555555555556, \"#d8576b\"], [0.6666666666666666, \"#ed7953\"], [0.7777777777777778, \"#fb9f3a\"], [0.8888888888888888, \"#fdca26\"], [1.0, \"#f0f921\"]], \"type\": \"heatmap\"}], \"heatmapgl\": [{\"colorbar\": {\"outlinewidth\": 0, \"ticks\": \"\"}, \"colorscale\": [[0.0, \"#0d0887\"], [0.1111111111111111, \"#46039f\"], [0.2222222222222222, \"#7201a8\"], [0.3333333333333333, \"#9c179e\"], [0.4444444444444444, \"#bd3786\"], [0.5555555555555556, \"#d8576b\"], [0.6666666666666666, \"#ed7953\"], [0.7777777777777778, \"#fb9f3a\"], [0.8888888888888888, \"#fdca26\"], [1.0, \"#f0f921\"]], \"type\": \"heatmapgl\"}], \"histogram\": [{\"marker\": {\"colorbar\": {\"outlinewidth\": 0, \"ticks\": \"\"}}, \"type\": \"histogram\"}], \"histogram2d\": [{\"colorbar\": {\"outlinewidth\": 0, \"ticks\": \"\"}, \"colorscale\": [[0.0, \"#0d0887\"], [0.1111111111111111, \"#46039f\"], [0.2222222222222222, \"#7201a8\"], [0.3333333333333333, \"#9c179e\"], [0.4444444444444444, \"#bd3786\"], [0.5555555555555556, \"#d8576b\"], [0.6666666666666666, \"#ed7953\"], [0.7777777777777778, \"#fb9f3a\"], [0.8888888888888888, \"#fdca26\"], [1.0, \"#f0f921\"]], \"type\": \"histogram2d\"}], \"histogram2dcontour\": [{\"colorbar\": {\"outlinewidth\": 0, \"ticks\": \"\"}, \"colorscale\": [[0.0, \"#0d0887\"], [0.1111111111111111, \"#46039f\"], [0.2222222222222222, \"#7201a8\"], [0.3333333333333333, \"#9c179e\"], [0.4444444444444444, \"#bd3786\"], [0.5555555555555556, \"#d8576b\"], [0.6666666666666666, \"#ed7953\"], [0.7777777777777778, \"#fb9f3a\"], [0.8888888888888888, \"#fdca26\"], [1.0, \"#f0f921\"]], \"type\": \"histogram2dcontour\"}], \"mesh3d\": [{\"colorbar\": {\"outlinewidth\": 0, \"ticks\": \"\"}, \"type\": \"mesh3d\"}], \"parcoords\": [{\"line\": {\"colorbar\": {\"outlinewidth\": 0, \"ticks\": \"\"}}, \"type\": \"parcoords\"}], \"pie\": [{\"automargin\": true, \"type\": \"pie\"}], \"scatter\": [{\"marker\": {\"colorbar\": {\"outlinewidth\": 0, \"ticks\": \"\"}}, \"type\": \"scatter\"}], \"scatter3d\": [{\"line\": {\"colorbar\": {\"outlinewidth\": 0, \"ticks\": \"\"}}, \"marker\": {\"colorbar\": {\"outlinewidth\": 0, \"ticks\": \"\"}}, \"type\": \"scatter3d\"}], \"scattercarpet\": [{\"marker\": {\"colorbar\": {\"outlinewidth\": 0, \"ticks\": \"\"}}, \"type\": \"scattercarpet\"}], \"scattergeo\": [{\"marker\": {\"colorbar\": {\"outlinewidth\": 0, \"ticks\": \"\"}}, \"type\": \"scattergeo\"}], \"scattergl\": [{\"marker\": {\"colorbar\": {\"outlinewidth\": 0, \"ticks\": \"\"}}, \"type\": \"scattergl\"}], \"scattermapbox\": [{\"marker\": {\"colorbar\": {\"outlinewidth\": 0, \"ticks\": \"\"}}, \"type\": \"scattermapbox\"}], \"scatterpolar\": [{\"marker\": {\"colorbar\": {\"outlinewidth\": 0, \"ticks\": \"\"}}, \"type\": \"scatterpolar\"}], \"scatterpolargl\": [{\"marker\": {\"colorbar\": {\"outlinewidth\": 0, \"ticks\": \"\"}}, \"type\": \"scatterpolargl\"}], \"scatterternary\": [{\"marker\": {\"colorbar\": {\"outlinewidth\": 0, \"ticks\": \"\"}}, \"type\": \"scatterternary\"}], \"surface\": [{\"colorbar\": {\"outlinewidth\": 0, \"ticks\": \"\"}, \"colorscale\": [[0.0, \"#0d0887\"], [0.1111111111111111, \"#46039f\"], [0.2222222222222222, \"#7201a8\"], [0.3333333333333333, \"#9c179e\"], [0.4444444444444444, \"#bd3786\"], [0.5555555555555556, \"#d8576b\"], [0.6666666666666666, \"#ed7953\"], [0.7777777777777778, \"#fb9f3a\"], [0.8888888888888888, \"#fdca26\"], [1.0, \"#f0f921\"]], \"type\": \"surface\"}], \"table\": [{\"cells\": {\"fill\": {\"color\": \"#EBF0F8\"}, \"line\": {\"color\": \"white\"}}, \"header\": {\"fill\": {\"color\": \"#C8D4E3\"}, \"line\": {\"color\": \"white\"}}, \"type\": \"table\"}]}, \"layout\": {\"annotationdefaults\": {\"arrowcolor\": \"#2a3f5f\", \"arrowhead\": 0, \"arrowwidth\": 1}, \"coloraxis\": {\"colorbar\": {\"outlinewidth\": 0, \"ticks\": \"\"}}, \"colorscale\": {\"diverging\": [[0, \"#8e0152\"], [0.1, \"#c51b7d\"], [0.2, \"#de77ae\"], [0.3, \"#f1b6da\"], [0.4, \"#fde0ef\"], [0.5, \"#f7f7f7\"], [0.6, \"#e6f5d0\"], [0.7, \"#b8e186\"], [0.8, \"#7fbc41\"], [0.9, \"#4d9221\"], [1, \"#276419\"]], \"sequential\": [[0.0, \"#0d0887\"], [0.1111111111111111, \"#46039f\"], [0.2222222222222222, \"#7201a8\"], [0.3333333333333333, \"#9c179e\"], [0.4444444444444444, \"#bd3786\"], [0.5555555555555556, \"#d8576b\"], [0.6666666666666666, \"#ed7953\"], [0.7777777777777778, \"#fb9f3a\"], [0.8888888888888888, \"#fdca26\"], [1.0, \"#f0f921\"]], \"sequentialminus\": [[0.0, \"#0d0887\"], [0.1111111111111111, \"#46039f\"], [0.2222222222222222, \"#7201a8\"], [0.3333333333333333, \"#9c179e\"], [0.4444444444444444, \"#bd3786\"], [0.5555555555555556, \"#d8576b\"], [0.6666666666666666, \"#ed7953\"], [0.7777777777777778, \"#fb9f3a\"], [0.8888888888888888, \"#fdca26\"], [1.0, \"#f0f921\"]]}, \"colorway\": [\"#636efa\", \"#EF553B\", \"#00cc96\", \"#ab63fa\", \"#FFA15A\", \"#19d3f3\", \"#FF6692\", \"#B6E880\", \"#FF97FF\", \"#FECB52\"], \"font\": {\"color\": \"#2a3f5f\"}, \"geo\": {\"bgcolor\": \"white\", \"lakecolor\": \"white\", \"landcolor\": \"#E5ECF6\", \"showlakes\": true, \"showland\": true, \"subunitcolor\": \"white\"}, \"hoverlabel\": {\"align\": \"left\"}, \"hovermode\": \"closest\", \"mapbox\": {\"style\": \"light\"}, \"paper_bgcolor\": \"white\", \"plot_bgcolor\": \"#E5ECF6\", \"polar\": {\"angularaxis\": {\"gridcolor\": \"white\", \"linecolor\": \"white\", \"ticks\": \"\"}, \"bgcolor\": \"#E5ECF6\", \"radialaxis\": {\"gridcolor\": \"white\", \"linecolor\": \"white\", \"ticks\": \"\"}}, \"scene\": {\"xaxis\": {\"backgroundcolor\": \"#E5ECF6\", \"gridcolor\": \"white\", \"gridwidth\": 2, \"linecolor\": \"white\", \"showbackground\": true, \"ticks\": \"\", \"zerolinecolor\": \"white\"}, \"yaxis\": {\"backgroundcolor\": \"#E5ECF6\", \"gridcolor\": \"white\", \"gridwidth\": 2, \"linecolor\": \"white\", \"showbackground\": true, \"ticks\": \"\", \"zerolinecolor\": \"white\"}, \"zaxis\": {\"backgroundcolor\": \"#E5ECF6\", \"gridcolor\": \"white\", \"gridwidth\": 2, \"linecolor\": \"white\", \"showbackground\": true, \"ticks\": \"\", \"zerolinecolor\": \"white\"}}, \"shapedefaults\": {\"line\": {\"color\": \"#2a3f5f\"}}, \"ternary\": {\"aaxis\": {\"gridcolor\": \"white\", \"linecolor\": \"white\", \"ticks\": \"\"}, \"baxis\": {\"gridcolor\": \"white\", \"linecolor\": \"white\", \"ticks\": \"\"}, \"bgcolor\": \"#E5ECF6\", \"caxis\": {\"gridcolor\": \"white\", \"linecolor\": \"white\", \"ticks\": \"\"}}, \"title\": {\"x\": 0.05}, \"xaxis\": {\"automargin\": true, \"gridcolor\": \"white\", \"linecolor\": \"white\", \"ticks\": \"\", \"title\": {\"standoff\": 15}, \"zerolinecolor\": \"white\", \"zerolinewidth\": 2}, \"yaxis\": {\"automargin\": true, \"gridcolor\": \"white\", \"linecolor\": \"white\", \"ticks\": \"\", \"title\": {\"standoff\": 15}, \"zerolinecolor\": \"white\", \"zerolinewidth\": 2}}}},\n",
       "                        {\"responsive\": true}\n",
       "                    ).then(function(){\n",
       "                            \n",
       "var gd = document.getElementById('445b93ba-c754-46f8-97ee-bb509938ce80');\n",
       "var x = new MutationObserver(function (mutations, observer) {{\n",
       "        var display = window.getComputedStyle(gd).display;\n",
       "        if (!display || display === 'none') {{\n",
       "            console.log([gd, 'removed!']);\n",
       "            Plotly.purge(gd);\n",
       "            observer.disconnect();\n",
       "        }}\n",
       "}});\n",
       "\n",
       "// Listen for the removal of the full notebook cells\n",
       "var notebookContainer = gd.closest('#notebook-container');\n",
       "if (notebookContainer) {{\n",
       "    x.observe(notebookContainer, {childList: true});\n",
       "}}\n",
       "\n",
       "// Listen for the clearing of the current output cell\n",
       "var outputEl = gd.closest('.output');\n",
       "if (outputEl) {{\n",
       "    x.observe(outputEl, {childList: true});\n",
       "}}\n",
       "\n",
       "                        })\n",
       "                };\n",
       "                });\n",
       "            </script>\n",
       "        </div>"
      ]
     },
     "metadata": {},
     "output_type": "display_data"
    }
   ],
   "source": [
    "# Напоследок визуализируем наш прогноз с границами :\n",
    "\n",
    "from plotly.offline import download_plotlyjs, init_notebook_mode, plot, iplot\n",
    "import plotly.graph_objs as go\n",
    "init_notebook_mode(connected = True)\n",
    "\n",
    "iplot([\n",
    "    go.Scatter(x=data['ds'], y=data['y'], name='fact'),\n",
    "    go.Scatter(x=forecast['ds'], y=forecast['yhat'], name='prediction'),\n",
    "    go.Scatter(x=forecast['ds'], y=forecast['yhat_upper'], fill='tonexty', mode='none', name='upper'),\n",
    "    go.Scatter(x=forecast['ds'], y=forecast['yhat_lower'], fill='tonexty', mode='none', name='lower'),\n",
    "    go.Scatter(x=forecast['ds'], y=forecast['trend'], name='trend')\n",
    "])"
   ]
  }
 ],
 "metadata": {
  "kernelspec": {
   "display_name": "Python 3",
   "language": "python",
   "name": "python3"
  },
  "language_info": {
   "codemirror_mode": {
    "name": "ipython",
    "version": 3
   },
   "file_extension": ".py",
   "mimetype": "text/x-python",
   "name": "python",
   "nbconvert_exporter": "python",
   "pygments_lexer": "ipython3",
   "version": "3.7.6"
  }
 },
 "nbformat": 4,
 "nbformat_minor": 4
}
